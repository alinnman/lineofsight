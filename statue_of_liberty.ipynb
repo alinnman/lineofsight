{
 "cells": [
  {
   "cell_type": "markdown",
   "metadata": {
    "colab_type": "text",
    "id": "view-in-github"
   },
   "source": [
    "<a href=\"https://colab.research.google.com/github/alinnman/lineofsight/blob/main/statue_of_liberty.ipynb\" target=\"_parent\"><img src=\"https://colab.research.google.com/assets/colab-badge.svg\" alt=\"Open In Colab\"/></a>"
   ]
  },
  {
   "cell_type": "markdown",
   "metadata": {
    "id": "rJeZGRbKuu6M"
   },
   "source": [
    "# Simple sample for line of sight\n",
    "This sample calculates the line of sight from a target (lighthouse/mountain/skyscraper) to two observers located at various heights over the sea surface. All **heights** are specified in meters. Calculations are made without and with refraction. For refraction **air pressure** (kPa), **temperature** (degrees Celsius) and **temperature gradient** (degrees Celsius / meter) must be entered. Default values are pre-set.\n",
    "\n",
    "A calculation for an observer at sea level is also made, and a check is made to see if the parabola approximation (\"8 inches per miles squared\") is correct or not.\n",
    "\n",
    "A calculation of obstructed height is also made, and presented as a separate table.\n",
    "\n",
    "Instructions for use: Fill in the parameters and **Press Ctrl-F9 or the arrow button below** to calculate the result which will be presented in the bottom cell.\n",
    "\n",
    "*The pre-set values are taken from [the view](https://maps.app.goo.gl/QEKNpBXzX8unTxtp7) of Puig Major (1436) on Mallorca Island from Penyagolosa (1813 m) on the Spanish mainland.*\n",
    "\n",
    "Allow some time for the first execution (Google Colab needs some time to start up).<br/>\n",
    "When running for the first time you will get a warning about the code not originating from Google Colab (it is stored in GitHub). You can safely ignore this warning, but you may of course read the source code. Click \"Show code\" to inspect the source code (you may also modify).\n",
    "\n",
    "*Tip: To simulate severe refraction set the temperature gradient to 0.1 (i.e strong temperature inversion)*.\n",
    "\n",
    "The used maths (formulas etc.) is presented in the bottom cell."
   ]
  },
  {
   "cell_type": "code",
   "execution_count": 17,
   "metadata": {
    "cellView": "form",
    "colab": {
     "base_uri": "https://localhost:8080/",
     "height": 1000
    },
    "id": "TgVap7la3Nrz",
    "outputId": "50eaf174-378a-4c6d-cddc-7406fc7cf3f3"
   },
   "outputs": [
    {
     "data": {
      "text/markdown": [
       "# Results"
      ],
      "text/plain": [
       "<IPython.core.display.Markdown object>"
      ]
     },
     "metadata": {},
     "output_type": "display_data"
    },
    {
     "data": {
      "text/markdown": [
       "HEIGHT of TARGET = 5000000 meters"
      ],
      "text/plain": [
       "<IPython.core.display.Markdown object>"
      ]
     },
     "metadata": {},
     "output_type": "display_data"
    },
    {
     "data": {
      "text/markdown": [
       "### CALCULATING for OBSERVER HEIGHT = 0 meters"
      ],
      "text/plain": [
       "<IPython.core.display.Markdown object>"
      ]
     },
     "metadata": {},
     "output_type": "display_data"
    },
    {
     "data": {
      "text/markdown": [
       "*Checking the 8 inches per miles squared approximation*<br/>*Parabola approximation of lighthouse height = 3035075.02811 meters, from a distance of 6219737 meters.*<br/>*.. which is 39.2985 % off the real value*"
      ],
      "text/plain": [
       "<IPython.core.display.Markdown object>"
      ]
     },
     "metadata": {},
     "output_type": "display_data"
    },
    {
     "data": {
      "text/markdown": [
       "|Refraction|Line of Sight (meters)|Dip of Horizon (arcminutes)\n",
       "|-----|-----|-----|\n",
       "|No|6219737|0\n",
       "|Yes|6918965|0|\n"
      ],
      "text/plain": [
       "<IPython.core.display.Markdown object>"
      ]
     },
     "metadata": {},
     "output_type": "display_data"
    },
    {
     "data": {
      "text/markdown": [
       "### Obscured heights (with refraction)"
      ],
      "text/plain": [
       "<IPython.core.display.Markdown object>"
      ]
     },
     "metadata": {},
     "output_type": "display_data"
    },
    {
     "data": {
      "text/markdown": [
       "| Distance (m) | Obstructed Height (m) | Visible part (%) |\n",
       "| ----- | ----- | ----- |\n",
       "|**19318000**|**5000000.0**|**0.0**|\n",
       "|6918965|5000000.0|0.0|\n",
       "|6227069|3666425.8|26.67|\n",
       "|5535172|2669902.1|46.6|\n",
       "|4843276|1911566.18|61.77|\n",
       "|4151379|1329493.34|73.41|\n",
       "|3459483|883300.11|82.33|\n",
       "|2767586|545944.93|89.08|\n",
       "|2075690|299112.6|94.02|\n",
       "|1383793|130513.49|97.39|\n",
       "|691897|32274.82|99.35|\n",
       "|0|0.0|100.0|\n"
      ],
      "text/plain": [
       "<IPython.core.display.Markdown object>"
      ]
     },
     "metadata": {},
     "output_type": "display_data"
    },
    {
     "data": {
      "text/markdown": [
       "### CALCULATING for OBSERVER HEIGHT = 1000000 meters"
      ],
      "text/plain": [
       "<IPython.core.display.Markdown object>"
      ]
     },
     "metadata": {},
     "output_type": "display_data"
    },
    {
     "data": {
      "text/markdown": [
       "|Refraction|Line of Sight (meters)|Dip of Horizon (arcminutes)\n",
       "|-----|-----|-----|\n",
       "|No|9577611|1811\n",
       "|Yes|10578291|1690|\n"
      ],
      "text/plain": [
       "<IPython.core.display.Markdown object>"
      ]
     },
     "metadata": {},
     "output_type": "display_data"
    },
    {
     "data": {
      "text/markdown": [
       "### Obscured heights (with refraction)"
      ],
      "text/plain": [
       "<IPython.core.display.Markdown object>"
      ]
     },
     "metadata": {},
     "output_type": "display_data"
    },
    {
     "data": {
      "text/markdown": [
       "| Distance (m) | Obstructed Height (m) | Visible part (%) |\n",
       "| ----- | ----- | ----- |\n",
       "|**19318000**|**5000000.0**|**0.0**|\n",
       "|10578291|5000000.0|0.0|\n",
       "|9886395|3666425.8|26.67|\n",
       "|9194498|2669902.1|46.6|\n",
       "|8502602|1911566.18|61.77|\n",
       "|7810705|1329493.34|73.41|\n",
       "|7118809|883300.11|82.33|\n",
       "|6426912|545944.93|89.08|\n",
       "|5735016|299112.6|94.02|\n",
       "|5043119|130513.49|97.39|\n",
       "|4351223|32274.82|99.35|\n",
       "|3659326 and closer|0.0|100.0|\n"
      ],
      "text/plain": [
       "<IPython.core.display.Markdown object>"
      ]
     },
     "metadata": {},
     "output_type": "display_data"
    },
    {
     "data": {
      "text/markdown": [
       "### CALCULATING for OBSERVER HEIGHT = 15000000 meters"
      ],
      "text/plain": [
       "<IPython.core.display.Markdown object>"
      ]
     },
     "metadata": {},
     "output_type": "display_data"
    },
    {
     "data": {
      "text/markdown": [
       "|Refraction|Line of Sight (meters)|Dip of Horizon (arcminutes)\n",
       "|-----|-----|-----|\n",
       "|No|14300554|4359\n",
       "|Yes|16094475|4238|\n"
      ],
      "text/plain": [
       "<IPython.core.display.Markdown object>"
      ]
     },
     "metadata": {},
     "output_type": "display_data"
    },
    {
     "data": {
      "text/markdown": [
       "### Obscured heights (with refraction)"
      ],
      "text/plain": [
       "<IPython.core.display.Markdown object>"
      ]
     },
     "metadata": {},
     "output_type": "display_data"
    },
    {
     "data": {
      "text/markdown": [
       "| Distance (m) | Obstructed Height (m) | Visible part (%) |\n",
       "| ----- | ----- | ----- |\n",
       "|**19318000**|**28578371.37**|**0.0**|\n",
       "|16094475|5000000.0|0.0|\n",
       "|15402579|3666425.8|26.67|\n",
       "|14710682|2669902.1|46.6|\n",
       "|14018786|1911566.18|61.77|\n",
       "|13326889|1329493.34|73.41|\n",
       "|12634993|883300.11|82.33|\n",
       "|11943096|545944.93|89.08|\n",
       "|11251200|299112.6|94.02|\n",
       "|10559303|130513.49|97.39|\n",
       "|9867407|32274.82|99.35|\n",
       "|9175510 and closer|0.0|100.0|\n"
      ],
      "text/plain": [
       "<IPython.core.display.Markdown object>"
      ]
     },
     "metadata": {},
     "output_type": "display_data"
    }
   ],
   "source": [
    "from math import sqrt, pi, atan2, cos, acos\n",
    "from IPython.display import Markdown, display\n",
    "\n",
    "# @markdown ### Enter parameters:\n",
    "TARGET_HEIGHT = 5000000 # @param {\"type\":\"integer\"}\n",
    "TARGET_DISTANCE = 19318000 # @param {\"type\":\"integer\"}\n",
    "#TARGET_DISTANCE = 6318000 # @param {\"type\":\"integer\"}\n",
    "OBSERVER_HEIGHT_1 = 1000000 # @param {\"type\":\"integer\"}\n",
    "OBSERVER_HEIGHT_2 = 15000000 # @param {\"type\":\"integer\"}\n",
    "PRESSURE = 101 # @param {\"type\":\"integer\"}\n",
    "TEMPERATURE = 20 # @param {\"type\":\"integer\"}\n",
    "TEMP_GRADIENT = -0.01 # @param {\"type\":\"number\"}\n",
    "\n",
    "EARTH_CIRCUMFERENCE_EQUATORIAL = 40075.017\n",
    "EARTH_CIRCUMFERENCE_MERIDIONAL = 40007.86\n",
    "EARTH_CIRCUMFERENCE = (EARTH_CIRCUMFERENCE_EQUATORIAL + EARTH_CIRCUMFERENCE_MERIDIONAL) / 2\n",
    "EARTH_RADIUS = EARTH_CIRCUMFERENCE / (2 * pi)\n",
    "\n",
    "R = EARTH_RADIUS*1000\n",
    "\n",
    "def visibility_limit (RR : float, h1 : float, h2 : float,\\\n",
    "                      get_obscurations : bool = False,\n",
    "                      target_distance = None)\\\n",
    "    -> tuple [float, float, list[tuple[float,float]]]:\n",
    "  ''' Geometry for line-of-sight '''\n",
    "  x1a = sqrt (((RR + h1)**2) - RR**2)\n",
    "  x1r = atan2 (x1a, RR)\n",
    "  x1 = x1r * RR\n",
    "  x2a = sqrt (((RR + h2)**2) - RR**2)\n",
    "  x2r = atan2 (x2a, RR)\n",
    "  x2 = x2r * RR\n",
    "\n",
    "  obscurations = list()\n",
    "  output_target_done = False\n",
    "\n",
    "  # Do split and get obscured height\n",
    "  if get_obscurations and target_distance is not None:\n",
    "    for i in range (10 + 1):\n",
    "      s = x1r * ((10 - i) / 10)\n",
    "      ho = RR / cos (s) - RR\n",
    "      dist = x2 + s*RR\n",
    "      if dist < target_distance and not output_target_done:\n",
    "        dist2 = target_distance - x2\n",
    "        angle = dist2 / RR\n",
    "        hoPrim = RR / cos (angle) - RR\n",
    "        obscurations.append ((target_distance, hoPrim, True))\n",
    "        output_target_done = True\n",
    "      obscurations.append ((dist, ho, False))\n",
    "    if not output_target_done:\n",
    "      obscurations.append ((target_distance, 0.0, True))\n",
    "\n",
    "  return x1, x2, obscurations\n",
    "\n",
    "def reportObsc (obsc : list[tuple[float,float, bool]]) :\n",
    "  display (Markdown (\"### Obscured heights (with refraction)\"))\n",
    "  tableString = \"| Distance (m) | Obstructed Height (m) | Visible part (%) |\\n\"\n",
    "  tableString += \"| ----- | ----- | ----- |\\n\"\n",
    "\n",
    "  for e in obsc:\n",
    "    distance = e[0]\n",
    "    distanceString = str(round(distance))\n",
    "    obscHeight = e[1]\n",
    "    obscTarget = e[2]\n",
    "\n",
    "    if obscHeight == 0 and distance > 0:\n",
    "      distanceString = distanceString + \" and closer\"\n",
    "    fattyMarker = \"\"\n",
    "    if obscTarget:\n",
    "      fattyMarker = \"**\"\n",
    "    if obscHeight < 0:\n",
    "      percent = 0.0\n",
    "      obscHeight = float(TARGET_HEIGHT)\n",
    "    else:\n",
    "      percent = 100.0 - (obscHeight / TARGET_HEIGHT) * 100.0\n",
    "    if percent < 0:\n",
    "      percent = 0.0\n",
    "    elif percent > 100:\n",
    "      percent = 100.0\n",
    "    tableString += \"|\" + fattyMarker + distanceString + fattyMarker +\\\n",
    "                   \"|\" + fattyMarker + str(round(obscHeight,2)) + fattyMarker + \\\n",
    "                   \"|\" + fattyMarker + str(round(percent,2)) + fattyMarker + \"|\\n\"\n",
    "  display (Markdown(tableString))\n",
    "\n",
    "def get_dip_of_horizon (hm : int | float, RR : float)\\\n",
    "      -> float:\n",
    "    the_dip = acos (RR/(RR+hm))*(180/pi)*60\n",
    "    return the_dip\n",
    "\n",
    "DT_DH = TEMP_GRADIENT # Temperature shift with increasing elevation\n",
    "K_FACTOR = 503*(PRESSURE*10)*(1/((TEMPERATURE+273)**2))*(0.0343 + DT_DH)\n",
    "Ra = R / (1 - K_FACTOR) # This is the radius adjusted for refraction\n",
    "# See https://en.wikipedia.org/wiki/Atmospheric_refraction#cite_note-Hirt2010-28\n",
    "\n",
    "h1 = TARGET_HEIGHT # Height of target\n",
    "\n",
    "display (Markdown (\"# Results\"))\n",
    "display (Markdown (\"HEIGHT of TARGET = \" + str(h1) + \" meters\"))\n",
    "\n",
    "for h2 in [0, OBSERVER_HEIGHT_1, OBSERVER_HEIGHT_2]: # Try some different observer elevations\n",
    "\n",
    "  display (Markdown (\"### CALCULATING for OBSERVER HEIGHT = \" + str(h2) + \" meters\"))\n",
    "\n",
    "  ## No refraction\n",
    "\n",
    "  x1, x2, obsc = visibility_limit (R, h1, h2)\n",
    "  distance = x1 + x2\n",
    "  dipOfHorizon = get_dip_of_horizon (h2, R)\n",
    "  lightHouseTable = \"|Refraction|Line of Sight (meters)|Dip of Horizon (arcminutes)\\n\"\n",
    "  lightHouseTable += \"|-----|-----|-----|\\n\"\n",
    "  lightHouseTable += \"|No|\" + str(round(distance))+ \"|\" +str(round(dipOfHorizon))+ \"\\n\"\n",
    "\n",
    "  # For zero elevation (observer at sea level) we can double-check with the parabola approximation\n",
    "  # NOTE: The parabola approximation is useless if observer is above sea level!\n",
    "  if h2 == 0:\n",
    "    outputStr = \"*Checking the 8 inches per miles squared approximation*<br/>\"\n",
    "    MILES_PER_KM = 0.621371\n",
    "    miles = (distance/1000) * MILES_PER_KM\n",
    "    inches = 8 * (miles**2)\n",
    "    INCHES_PER_METER = 39.3701\n",
    "    meters_from_inches = inches / INCHES_PER_METER\n",
    "    outputStr += \"*Parabola approximation of lighthouse height = \" + str(round(meters_from_inches,5)) + \" meters, from a distance of \" +str(round(distance))+\" meters.*<br/>\"\n",
    "    outputStr += \"*.. which is \" + \\\n",
    "                 str(abs(round(((meters_from_inches - h1) / h1),6)*100)) + \\\n",
    "                 \" % off the real value*\"\n",
    "    display (Markdown (outputStr))\n",
    "\n",
    "  ## Now adjust for refraction\n",
    "\n",
    "  x1,x2,obsc = visibility_limit (Ra, h1, h2, get_obscurations=True, target_distance=TARGET_DISTANCE)\n",
    "  distance = x1 + x2\n",
    "  dipOfHorizon = get_dip_of_horizon (h2, Ra)\n",
    "\n",
    "  lightHouseTable += \"|Yes|\" + str(round(distance))+ \"|\" +str(round(dipOfHorizon))+ \"|\\n\"\n",
    "  display (Markdown(lightHouseTable))\n",
    "  if obsc is not None:\n",
    "    reportObsc (obsc)\n"
   ]
  },
  {
   "cell_type": "markdown",
   "metadata": {
    "id": "Pt1tv3DO9Rdd"
   },
   "source": [
    "<br/><br/><br/><br/>\n",
    "\n",
    "## Math formulas\n",
    "\n",
    "<br/>\n",
    "\n",
    "#### The **line of sight** $d_L$ is calculated using this formula\n",
    "\n",
    "$d_L = R_r \\times \\left( \\arctan\\frac{\\sqrt{(R_r+h_1)^2 - {R_r}^2}}{R_r} + \\arctan\\frac{\\sqrt{(R_r+h_2)^2 - {R_r}^2}}{R_r} \\right)$\n",
    "\n",
    "Where:\n",
    "\n",
    "$R_r$ is Earth radius. (It may be a value corrected for refraction)<br/>\n",
    "$h_1$ is Target elevation<br/>\n",
    "$h_2$ is Observer elevation\n",
    "\n",
    "<br/>\n",
    "\n",
    "#### The **obscured height** $h_o$ is calculated using this formula\n",
    "\n",
    "$h_o = \\frac{R_r}{\\cos{\\left(\\frac{d_t - \\left( \\arctan{\\frac{\\sqrt{{\\left(R_r + h_2\\right)}^2-R_r^2}}{R_r}} \\times R_r \\right)}{R_r}\\right)}} - R_r$\n",
    "\n",
    "Where:\n",
    "\n",
    "$d_t$ is the **target distance**\n",
    "\n",
    "<br/>\n",
    "\n",
    "#### **Refraction** is calculated using an enlarged Earth radius $R_a$ according to this formula\n",
    "\n",
    "$R_a = \\frac{R_r}{1 - 503 \\times P \\times \\frac{1}{{\\left( T+273 \\right) }^2} \\times \\left( 0.0343 + \\frac{dT}{dH}\\right)}$\n",
    "\n",
    "Where:\n",
    "\n",
    "$P$ is Air Pressure (in millibars)<br/>\n",
    "$T$ is Temperature (in degrees Celsius)<br/>\n",
    "$\\frac{dT}{dH}$ is Temperature Gradient (degrees celsius per meter). Normal conditions is about 1 degree colder for each 100 m, i.e. $-0.01$.\n",
    "\n",
    "<br/>\n",
    "\n",
    "#### **Dip of the Horizon**\n",
    "\n",
    "$a_{\\text{dip}} = \\arccos{\\frac{R_r}{R_r + h_2}}$"
   ]
  }
 ],
 "metadata": {
  "colab": {
   "include_colab_link": true,
   "provenance": []
  },
  "kernelspec": {
   "display_name": "base",
   "language": "python",
   "name": "python3"
  },
  "language_info": {
   "codemirror_mode": {
    "name": "ipython",
    "version": 3
   },
   "file_extension": ".py",
   "mimetype": "text/x-python",
   "name": "python",
   "nbconvert_exporter": "python",
   "pygments_lexer": "ipython3",
   "version": "3.11.10"
  }
 },
 "nbformat": 4,
 "nbformat_minor": 0
}
