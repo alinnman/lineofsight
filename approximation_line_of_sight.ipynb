{
  "nbformat": 4,
  "nbformat_minor": 0,
  "metadata": {
    "colab": {
      "provenance": []
    },
    "kernelspec": {
      "name": "python3",
      "display_name": "Python 3"
    },
    "language_info": {
      "name": "python"
    }
  },
  "cells": [
    {
      "cell_type": "markdown",
      "source": [
        "# Approximation of Earth curvature using simple parabola formulas\n",
        "\n",
        "---\n",
        "\n",
        "There is a simple curvature approximation based on a parabola. It is suprisingly accurate up to a distance of several hundred miles. The famous **eight inches per miles squared** formula:<br><br>\n",
        "\n",
        "$c_i = 8m^2$\n",
        "\n",
        "* Where $c_i$ is hidden curvature in inches and $m$ is distance in miles.\n",
        "\n",
        "<br>But when we are observing from **elevation** we need a different formula, since the view expands rapidly when we climb to higher elevations. We need to take observer elevation into account! This one is quite accurate at shorter distances. Note that we first calculate the distance to the **horizon**. There is no hidden curvature at this side of the horizon. <br><br>\n",
        "\n",
        "$d_{hm} = 1.23\\sqrt{h_f}$\n",
        "\n",
        "* Calculates the distance to the horizon $d_{hm}$ in miles.\n",
        "* Where $h_f$ is elevation of observer in feet.\n",
        "\n",
        "$\\text{if}\\; m < d_{hm}\\;:$<br>\n",
        "$\\;\\;\\;\\;c_i = 0$ (Object is at this side of the horizon)<br>\n",
        "$\\text{else}\\;:$<br>\n",
        "$\\;\\;\\;\\;c_i = 8{(m-d_{hm})}^2$ (Object is beyond horizon)\n",
        "\n",
        "\n",
        "\n",
        "---\n",
        "\n",
        "*NOTE*: Both these simple formulas have two potential problems:\n",
        "\n",
        "1.   They do not account for **refraction**.\n",
        "2.   They are **parabolas**, i.e. not perfectly spherical.\n",
        "\n",
        "Refraction typically places the horizon at a greater distance and can greatly increase the visilibity of distant objects, which will affect the second formula significantly.\n",
        "\n",
        "A more precise calculation with spherical maths and refraction can be made using this more elaborate [line-of-sight-calculator](https://colab.research.google.com/drive/1Bwt9_VTukr-dq5NQ9bEFOMUdZdIqgh-1).\n",
        "\n"
      ],
      "metadata": {
        "id": "I7vFFqJlVtZb"
      }
    },
    {
      "cell_type": "code",
      "source": [],
      "metadata": {
        "id": "nB00Q6C9WWb_"
      },
      "execution_count": null,
      "outputs": []
    }
  ]
}