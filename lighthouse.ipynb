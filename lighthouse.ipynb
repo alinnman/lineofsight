{
 "cells": [
  {
   "cell_type": "markdown",
   "metadata": {
    "colab_type": "text",
    "id": "view-in-github"
   },
   "source": [
    "<a href=\"https://colab.research.google.com/github/alinnman/lineofsight/blob/main/lighthouse.ipynb\" target=\"_parent\"><img src=\"https://colab.research.google.com/assets/colab-badge.svg\" alt=\"Open In Colab\"/></a>"
   ]
  },
  {
   "cell_type": "markdown",
   "metadata": {
    "id": "rJeZGRbKuu6M"
   },
   "source": [
    "# Simple sample for line of sight\n",
    "This sample calculates the line of sight from a lighthouse/mountain/skyscraper to two observers located at sea leavel, with different elevations above the sea surface. All **heights** are specified in meters. Calculations are made without and with refraction. For refraction **air pressure** (kPa), **temperature** (degrees Celsius) and **temperature gradient** (degrees Celsius / meter) must be entered. Default values are pre-set.\n",
    "\n",
    "A calculation for an observer at sea level is also made, and a check is made to see if the parabola approximation (\"8 inches per miles squared\") is correct or not.\n",
    "\n",
    "A calculation of obstructed height is also made, and presented as a separate table. \n",
    "\n",
    "Instructions for use: Fill in the parameters and **Press Ctrl-F9 or the arrow button below** to calculate the result which will be presented in the bottom cell. <br/>Allow some time for the first execution (Google Colab needs some time to start up).<br/>\n",
    "When running for the first time you will get a warning about the code not originating from Google Colab (it is stored in GitHub). You can safely ignore this warning, but you may of course read the source code. Click \"Show code\" to inspect the source code (you may also modify). \n",
    "\n",
    "*Tip: To simulate severe refraction set the temperature gradient to 0.1 (i.e strong temperature inversion)*."
   ]
  },
  {
   "cell_type": "code",
   "execution_count": null,
   "metadata": {
    "cellView": "form",
    "colab": {
     "base_uri": "https://localhost:8080/"
    },
    "id": "TgVap7la3Nrz",
    "outputId": "d9e01d59-55aa-4145-b5e5-2f4637c375c5"
   },
   "outputs": [
    {
     "data": {
      "text/markdown": [
       "# Results"
      ],
      "text/plain": [
       "<IPython.core.display.Markdown object>"
      ]
     },
     "metadata": {},
     "output_type": "display_data"
    },
    {
     "data": {
      "text/markdown": [
       "HEIGHT of LIGHTHOUSE = 56 meters"
      ],
      "text/plain": [
       "<IPython.core.display.Markdown object>"
      ]
     },
     "metadata": {},
     "output_type": "display_data"
    },
    {
     "data": {
      "text/markdown": [
       "### CALCULATING for OBSERVER HEIGHT = 0 meters"
      ],
      "text/plain": [
       "<IPython.core.display.Markdown object>"
      ]
     },
     "metadata": {},
     "output_type": "display_data"
    },
    {
     "data": {
      "text/markdown": [
       "*Checking the 8 inches per miles squared approximation*<br/>*Parabola approximation of lighthouse height = 55.99769 meters*<br/>*.. which is 0.0041 % off the real value*"
      ],
      "text/plain": [
       "<IPython.core.display.Markdown object>"
      ]
     },
     "metadata": {},
     "output_type": "display_data"
    },
    {
     "data": {
      "text/markdown": [
       "|Refraction|Line of Sight (meters)|\n",
       "|-----|-----|\n",
       "|No|26716|\n",
       "|Yes|28873|\n"
      ],
      "text/plain": [
       "<IPython.core.display.Markdown object>"
      ]
     },
     "metadata": {},
     "output_type": "display_data"
    },
    {
     "data": {
      "text/markdown": [
       "Obscured heights (with refraction)"
      ],
      "text/plain": [
       "<IPython.core.display.Markdown object>"
      ]
     },
     "metadata": {},
     "output_type": "display_data"
    },
    {
     "data": {
      "text/markdown": [
       "| Distance | Obscured Height |\n",
       "| ----- | ----- |\n",
       "|28873|56.0|\n",
       "|25985|45.36|\n",
       "|23098|35.84|\n",
       "|20211|27.44|\n",
       "|17324|20.16|\n",
       "|14436|14.0|\n",
       "|11549|8.96|\n",
       "|8662|5.04|\n",
       "|5775|2.24|\n",
       "|2887|0.56|\n",
       "|0|0.0|\n"
      ],
      "text/plain": [
       "<IPython.core.display.Markdown object>"
      ]
     },
     "metadata": {},
     "output_type": "display_data"
    },
    {
     "data": {
      "text/markdown": [
       "### CALCULATING for OBSERVER HEIGHT = 4 meters"
      ],
      "text/plain": [
       "<IPython.core.display.Markdown object>"
      ]
     },
     "metadata": {},
     "output_type": "display_data"
    },
    {
     "data": {
      "text/markdown": [
       "|Refraction|Line of Sight (meters)|\n",
       "|-----|-----|\n",
       "|No|33856|\n",
       "|Yes|36589|\n"
      ],
      "text/plain": [
       "<IPython.core.display.Markdown object>"
      ]
     },
     "metadata": {},
     "output_type": "display_data"
    },
    {
     "data": {
      "text/markdown": [
       "Obscured heights (with refraction)"
      ],
      "text/plain": [
       "<IPython.core.display.Markdown object>"
      ]
     },
     "metadata": {},
     "output_type": "display_data"
    },
    {
     "data": {
      "text/markdown": [
       "| Distance | Obscured Height |\n",
       "| ----- | ----- |\n",
       "|36589|56.0|\n",
       "|33702|45.36|\n",
       "|30815|35.84|\n",
       "|27927|27.44|\n",
       "|25040|20.16|\n",
       "|22153|14.0|\n",
       "|19266|8.96|\n",
       "|16378|5.04|\n",
       "|13491|2.24|\n",
       "|10604|0.56|\n",
       "|7717 and closer|0.0|\n"
      ],
      "text/plain": [
       "<IPython.core.display.Markdown object>"
      ]
     },
     "metadata": {},
     "output_type": "display_data"
    },
    {
     "data": {
      "text/markdown": [
       "### CALCULATING for OBSERVER HEIGHT = 40 meters"
      ],
      "text/plain": [
       "<IPython.core.display.Markdown object>"
      ]
     },
     "metadata": {},
     "output_type": "display_data"
    },
    {
     "data": {
      "text/markdown": [
       "|Refraction|Line of Sight (meters)|\n",
       "|-----|-----|\n",
       "|No|49295|\n",
       "|Yes|53274|\n"
      ],
      "text/plain": [
       "<IPython.core.display.Markdown object>"
      ]
     },
     "metadata": {},
     "output_type": "display_data"
    },
    {
     "data": {
      "text/markdown": [
       "Obscured heights (with refraction)"
      ],
      "text/plain": [
       "<IPython.core.display.Markdown object>"
      ]
     },
     "metadata": {},
     "output_type": "display_data"
    },
    {
     "data": {
      "text/markdown": [
       "| Distance | Obscured Height |\n",
       "| ----- | ----- |\n",
       "|53274|56.0|\n",
       "|50387|45.36|\n",
       "|47500|35.84|\n",
       "|44613|27.44|\n",
       "|41725|20.16|\n",
       "|38838|14.0|\n",
       "|35951|8.96|\n",
       "|33064|5.04|\n",
       "|30176|2.24|\n",
       "|27289|0.56|\n",
       "|24402 and closer|0.0|\n"
      ],
      "text/plain": [
       "<IPython.core.display.Markdown object>"
      ]
     },
     "metadata": {},
     "output_type": "display_data"
    }
   ],
   "source": [
    "from math import sqrt, pi, atan2, cos\n",
    "from IPython.display import Markdown, display\n",
    "\n",
    "# @markdown ### Enter parameters:\n",
    "LIGHTHOUSE_HEIGHT = 56 # @param {\"type\":\"integer\"}\n",
    "OBSERVER_HEIGHT_1 = 4 # @param {\"type\":\"integer\"}\n",
    "OBSERVER_HEIGHT_2 = 40 # @param {\"type\":\"integer\"}\n",
    "PRESSURE = 101 # @param {\"type\":\"integer\"}\n",
    "TEMPERATURE = 20 # @param {\"type\":\"integer\"}\n",
    "TEMP_GRADIENT = -0.01 # @param {\"type\":\"number\"}\n",
    "\n",
    "EARTH_CIRCUMFERENCE_EQUATORIAL = 40075.017\n",
    "EARTH_CIRCUMFERENCE_MERIDIONAL = 40007.86\n",
    "EARTH_CIRCUMFERENCE = (EARTH_CIRCUMFERENCE_EQUATORIAL + EARTH_CIRCUMFERENCE_MERIDIONAL) / 2\n",
    "EARTH_RADIUS = EARTH_CIRCUMFERENCE / (2 * pi)\n",
    "\n",
    "R = EARTH_RADIUS*1000\n",
    "\n",
    "def visibility_limit (RR : float, h1 : float, h2 : float, getObscurations : bool = False)\\\n",
    "    -> tuple [float, float, list[tuple[float,float]]]:\n",
    "  ''' Geometry for line-of-sight '''\n",
    "  x1a = sqrt (((RR + h1)**2) - RR**2)\n",
    "  x1r = atan2 (x1a, RR)\n",
    "  x1 = x1r * RR\n",
    "  x2a = sqrt (((RR + h2)**2) - RR**2)\n",
    "  x2r = atan2 (x2a, RR)\n",
    "  x2 = x2r * RR\n",
    "\n",
    "  obscurations = list()\n",
    "\n",
    "  # Do split and get obscured height\n",
    "  if getObscurations:\n",
    "    for i in range (10 + 1):\n",
    "      s = x1r * ((10 - i) / 10)\n",
    "      ho = RR / cos (s) - RR\n",
    "      obscurations.append ((x2 + s*RR, ho))\n",
    "\n",
    "  return x1, x2, obscurations\n",
    "\n",
    "def reportObsc (obsc : list[tuple[float,float]]) :\n",
    "  display (Markdown (\"Obscured heights (with refraction)\"))\n",
    "  tableString = \"| Distance | Obstructed Height |\\n\"\n",
    "  tableString += \"| ----- | ----- |\\n\"\n",
    "\n",
    "  for e in obsc:\n",
    "    distance = e[0]\n",
    "    distanceString = str(round(distance))\n",
    "    obscHeight = e[1]\n",
    "\n",
    "    if obscHeight == 0 and distance > 0:\n",
    "      distanceString = distanceString + \" and closer\"\n",
    "    tableString += \"|\" + distanceString + \"|\" + str(round(obscHeight,2)) + \"|\\n\"\n",
    "  display (Markdown(tableString))\n",
    "\n",
    "DT_DH = TEMP_GRADIENT # Temperature shift with increasing elevation\n",
    "K_FACTOR = 503*(PRESSURE*10)*(1/((TEMPERATURE+273)**2))*(0.0343 + DT_DH)\n",
    "Ra = R / (1 - K_FACTOR) # This is the radius adjusted for refraction\n",
    "# See https://en.wikipedia.org/wiki/Atmospheric_refraction#cite_note-Hirt2010-28\n",
    "\n",
    "h1 = LIGHTHOUSE_HEIGHT # Height of lighthouse\n",
    "\n",
    "display (Markdown (\"# Results\"))\n",
    "display (Markdown (\"HEIGHT of LIGHTHOUSE = \" + str(h1) + \" meters\"))\n",
    "\n",
    "for h2 in [0, OBSERVER_HEIGHT_1, OBSERVER_HEIGHT_2]: # Try some different observer elevations\n",
    "\n",
    "  display (Markdown (\"### CALCULATING for OBSERVER HEIGHT = \" + str(h2) + \" meters\"))\n",
    "\n",
    "  ## No refraction\n",
    " \n",
    "  x1, x2, obsc = visibility_limit (R, h1, h2)\n",
    "  distance = x1 + x2\n",
    "  lightHouseTable = \"|Refraction|Line of Sight (meters)|\\n\"\n",
    "  lightHouseTable += \"|-----|-----|\\n\"\n",
    "  lightHouseTable += \"|No|\" + str(round(distance))+ \"|\\n\"\n",
    "\n",
    "  # For zero elevation (observer at sea level) we can double-check with the parabola approximation\n",
    "  # NOTE: The parabola approximation is useless if observer is above sea level!\n",
    "  if h2 == 0:\n",
    "    outputStr = \"*Checking the 8 inches per miles squared approximation*<br/>\"\n",
    "    MILES_PER_KM = 0.621371\n",
    "    miles = (distance/1000) * MILES_PER_KM\n",
    "    inches = 8 * (miles**2)\n",
    "    INCHES_PER_METER = 39.3701\n",
    "    meters_from_inches = inches / INCHES_PER_METER\n",
    "    outputStr += \"*Parabola approximation of lighthouse height = \" + str(round(meters_from_inches,5)) + \" meters*<br/>\"\n",
    "    outputStr += \"*.. which is \" + \\\n",
    "                 str(abs(round(((meters_from_inches - h1) / h1),6)*100)) + \\\n",
    "                 \" % off the real value*\"\n",
    "    display (Markdown (outputStr))\n",
    "\n",
    "  ## Now adjust for refraction\n",
    "\n",
    "  x1,x2,obsc = visibility_limit (Ra, h1, h2, getObscurations=True)\n",
    "  distance = x1 + x2\n",
    "\n",
    "  lightHouseTable += \"|Yes|\" + str(round(distance))+ \"|\\n\"\n",
    "  display (Markdown(lightHouseTable))\n",
    "  if obsc is not None:\n",
    "    reportObsc (obsc)\n"
   ]
  }
 ],
 "metadata": {
  "colab": {
   "authorship_tag": "ABX9TyP7pv/QQPDE9wlMRPLf7efU",
   "include_colab_link": true,
   "provenance": []
  },
  "kernelspec": {
   "display_name": "base",
   "language": "python",
   "name": "python3"
  },
  "language_info": {
   "codemirror_mode": {
    "name": "ipython",
    "version": 3
   },
   "file_extension": ".py",
   "mimetype": "text/x-python",
   "name": "python",
   "nbconvert_exporter": "python",
   "pygments_lexer": "ipython3",
   "version": "3.11.9"
  }
 },
 "nbformat": 4,
 "nbformat_minor": 0
}
