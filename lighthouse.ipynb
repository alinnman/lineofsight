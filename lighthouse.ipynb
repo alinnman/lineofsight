{
  "nbformat": 4,
  "nbformat_minor": 0,
  "metadata": {
    "colab": {
      "provenance": [],
      "authorship_tag": "ABX9TyP7pv/QQPDE9wlMRPLf7efU",
      "include_colab_link": true
    },
    "kernelspec": {
      "name": "python3",
      "display_name": "Python 3"
    },
    "language_info": {
      "name": "python"
    }
  },
  "cells": [
    {
      "cell_type": "markdown",
      "metadata": {
        "id": "view-in-github",
        "colab_type": "text"
      },
      "source": [
        "<a href=\"https://colab.research.google.com/github/alinnman/lineofsight/blob/main/lighthouse.ipynb\" target=\"_parent\"><img src=\"https://colab.research.google.com/assets/colab-badge.svg\" alt=\"Open In Colab\"/></a>"
      ]
    },
    {
      "cell_type": "markdown",
      "source": [
        "# Simple sample for line of sight\n",
        "This sample calculates the line of sight from a lighthouse to two observers located at sea, with different elevations above the sea surface. All **heights** are specified in meters. Calculations are made without and with refraction. For refraction **air pressure** (kPa), **temperature** (degrees Celsius) and **temperature gradient** (degrees Celsius / meter) must be entered. Default values are pre-set.\n",
        "\n",
        "A calculation for an observer at sea level is also made, and a check is made to see if the parabola approximation (\"8 inches per miles squared\") is correct or not.\n",
        "\n",
        "Instructions for use: Fill in the parameters and **Press Ctrl-F9 or the arrow button below** to calculate the result which will be presented in the bottom cell. <br/>Allow some time for the first execution (Google Colab needs some time to start up).\n",
        "\n",
        "*Tip: To simulate severe refraction set the temperature gradient to 0.1*"
      ],
      "metadata": {
        "id": "rJeZGRbKuu6M"
      }
    },
    {
      "cell_type": "code",
      "execution_count": null,
      "metadata": {
        "colab": {
          "base_uri": "https://localhost:8080/"
        },
        "id": "TgVap7la3Nrz",
        "outputId": "d9e01d59-55aa-4145-b5e5-2f4637c375c5",
        "cellView": "form"
      },
      "outputs": [
        {
          "output_type": "stream",
          "name": "stdout",
          "text": [
            "HEIGHT of LIGHTHOUSE = 56 meters\n",
            "\n",
            "==== CALCULATING for OBSERVER HEIGHT = 0 meters\n",
            "Lighthouse line of sight stretches = 26716 meters\n",
            "Checking the 8 inches per miles squared approximation\n",
            "Parabola approximation of lighthouse height = 55.99769 meters\n",
            ".. which is 0.0041 % off the real value\n",
            "Lighthouse line of sight stretches with refraction = 28873 meters\n",
            "\n",
            "==== CALCULATING for OBSERVER HEIGHT = 4 meters\n",
            "Lighthouse line of sight stretches = 33856 meters\n",
            "Lighthouse line of sight stretches with refraction = 36589 meters\n",
            "\n",
            "==== CALCULATING for OBSERVER HEIGHT = 40 meters\n",
            "Lighthouse line of sight stretches = 49295 meters\n",
            "Lighthouse line of sight stretches with refraction = 53274 meters\n"
          ]
        }
      ],
      "source": [
        "from math import sqrt, pi, atan2\n",
        "\n",
        "# @markdown ### Enter parameters:\n",
        "LIGHTHOUSE_HEIGHT = 56 # @param {\"type\":\"integer\"}\n",
        "OBSERVER_HEIGHT_1 = 4 # @param {\"type\":\"integer\"}\n",
        "OBSERVER_HEIGHT_2 = 40 # @param {\"type\":\"integer\"}\n",
        "PRESSURE = 101 # @param {\"type\":\"integer\"}\n",
        "TEMPERATURE = 20 # @param {\"type\":\"integer\"}\n",
        "TEMP_GRADIENT = -0.01 # @param {\"type\":\"number\"}\n",
        "\n",
        "EARTH_CIRCUMFERENCE_EQUATORIAL = 40075.017\n",
        "EARTH_CIRCUMFERENCE_MERIDIONAL = 40007.86\n",
        "EARTH_CIRCUMFERENCE = (EARTH_CIRCUMFERENCE_EQUATORIAL + EARTH_CIRCUMFERENCE_MERIDIONAL) / 2\n",
        "EARTH_RADIUS = EARTH_CIRCUMFERENCE / (2 * pi)\n",
        "\n",
        "R = EARTH_RADIUS*1000\n",
        "\n",
        "def visibility_limit (R : float, h1 : float, h2 : float) -> float:\n",
        "  ''' Geometry for line-of-sight '''\n",
        "  x1a = sqrt (((R + h1)**2) - R**2)\n",
        "  x1 = atan2 (x1a, R) * R\n",
        "  x2a = sqrt (((R + h2)**2) - R**2)\n",
        "  x2 = atan2 (x2a, R) * R\n",
        "  return x1 + x2\n",
        "\n",
        "DT_DH = TEMP_GRADIENT # Temperature shift with increasing elevation\n",
        "K_FACTOR = 503*(PRESSURE*10)*(1/((TEMPERATURE+273)**2))*(0.0343 + DT_DH)\n",
        "Ra = R / (1 - K_FACTOR) # This is the radius adjusted for refraction\n",
        "# See https://en.wikipedia.org/wiki/Atmospheric_refraction#cite_note-Hirt2010-28\n",
        "\n",
        "h1 = LIGHTHOUSE_HEIGHT # Height of lighthouse\n",
        "\n",
        "print (\"HEIGHT of LIGHTHOUSE = \" + str(h1) + \" meters\")\n",
        "\n",
        "for h2 in [0, OBSERVER_HEIGHT_1, OBSERVER_HEIGHT_2]: # Try some different observer elevations\n",
        "\n",
        "  print (\"\")\n",
        "  print (\"==== CALCULATING for OBSERVER HEIGHT = \" + str(h2) + \" meters\")\n",
        "\n",
        "  ## No refraction\n",
        "\n",
        "  distance = visibility_limit (R, h1, h2)\n",
        "  print (\"Lighthouse line of sight stretches = \" + str(round(distance)) + \" meters\")\n",
        "\n",
        "  # For zero elevation (observer at sea level) we can double-check with the parabola approximation\n",
        "  # NOTE: The parabola approximation is useless if observer is above sea level!\n",
        "  if h2 == 0:\n",
        "    print (\"Checking the 8 inches per miles squared approximation\")\n",
        "    MILES_PER_KM = 0.621371\n",
        "    miles = (distance/1000) * MILES_PER_KM\n",
        "    inches = 8 * (miles**2)\n",
        "    INCHES_PER_METER = 39.3701\n",
        "    meters_from_inches = inches / INCHES_PER_METER\n",
        "    print (\"Parabola approximation of lighthouse height = \" + str(round(meters_from_inches,5)) + \" meters\")\n",
        "    print (\".. which is \" + \\\n",
        "           str(abs(round(((meters_from_inches - h1) / h1),6)*100)) + \\\n",
        "           \" % off the real value\")\n",
        "\n",
        "  ## Now adjust for refraction\n",
        "\n",
        "  distance = visibility_limit (Ra, h1, h2)\n",
        "\n",
        "  print (\"Lighthouse line of sight stretches with refraction = \" + str(round(distance)) + \" meters\")"
      ]
    }
  ]
}