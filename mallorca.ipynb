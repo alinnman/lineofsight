{
  "cells": [
    {
      "cell_type": "markdown",
      "metadata": {
        "id": "view-in-github",
        "colab_type": "text"
      },
      "source": [
        "<a href=\"https://colab.research.google.com/github/alinnman/lineofsight/blob/main/mallorca.ipynb\" target=\"_parent\"><img src=\"https://colab.research.google.com/assets/colab-badge.svg\" alt=\"Open In Colab\"/></a>"
      ]
    },
    {
      "cell_type": "markdown",
      "metadata": {
        "id": "rJeZGRbKuu6M"
      },
      "source": [
        "# Simple sample for line of sight\n",
        "This sample calculates the line of sight from a target (lighthouse/mountain/skyscraper) to two observers located at various heights over the sea surface. All **heights** are specified in meters. Calculations are made without and with refraction. For refraction **air pressure** (kPa), **temperature** (degrees Celsius) and **temperature gradient** (degrees Celsius / meter) must be entered. Default values are pre-set.\n",
        "\n",
        "A calculation for an observer at sea level is also made, and a check is made to see if the parabola approximation (\"8 inches per miles squared\") is correct or not.\n",
        "\n",
        "A calculation of obstructed height is also made, and presented as a separate table.\n",
        "\n",
        "Instructions for use: Fill in the parameters and **Press Ctrl-F9 or the arrow button below** to calculate the result which will be presented in the bottom cell.\n",
        "\n",
        "*The pre-set values are taken from [the view](https://maps.app.goo.gl/QEKNpBXzX8unTxtp7) of Puig Major (1436) on Mallorca Island from Penyagolosa (1813 m) on the Spanish mainland.*\n",
        "\n",
        "Allow some time for the first execution (Google Colab needs some time to start up).<br/>\n",
        "When running for the first time you will get a warning about the code not originating from Google Colab (it is stored in GitHub). You can safely ignore this warning, but you may of course read the source code. Click \"Show code\" to inspect the source code (you may also modify).\n",
        "\n",
        "*Tip: To simulate severe refraction set the temperature gradient to 0.1 (i.e strong temperature inversion)*."
      ]
    },
    {
      "cell_type": "code",
      "execution_count": 4,
      "metadata": {
        "colab": {
          "base_uri": "https://localhost:8080/",
          "height": 1000
        },
        "id": "TgVap7la3Nrz",
        "outputId": "e3007dad-0b02-489f-da55-7ad8a560c1e1"
      },
      "outputs": [
        {
          "output_type": "display_data",
          "data": {
            "text/plain": [
              "<IPython.core.display.Markdown object>"
            ],
            "text/markdown": "# Results"
          },
          "metadata": {}
        },
        {
          "output_type": "display_data",
          "data": {
            "text/plain": [
              "<IPython.core.display.Markdown object>"
            ],
            "text/markdown": "HEIGHT of TARGET = 1436 meters"
          },
          "metadata": {}
        },
        {
          "output_type": "display_data",
          "data": {
            "text/plain": [
              "<IPython.core.display.Markdown object>"
            ],
            "text/markdown": "### CALCULATING for OBSERVER HEIGHT = 0 meters"
          },
          "metadata": {}
        },
        {
          "output_type": "display_data",
          "data": {
            "text/plain": [
              "<IPython.core.display.Markdown object>"
            ],
            "text/markdown": "*Checking the 8 inches per miles squared approximation*<br/>*Parabola approximation of lighthouse height = 1435.68157 meters*<br/>*.. which is 0.0222 % off the real value*"
          },
          "metadata": {}
        },
        {
          "output_type": "display_data",
          "data": {
            "text/plain": [
              "<IPython.core.display.Markdown object>"
            ],
            "text/markdown": "|Refraction|Line of Sight (meters)|\n|-----|-----|\n|No|135275|\n|Yes|146196|\n"
          },
          "metadata": {}
        },
        {
          "output_type": "display_data",
          "data": {
            "text/plain": [
              "<IPython.core.display.Markdown object>"
            ],
            "text/markdown": "Obscured heights (with refraction)"
          },
          "metadata": {}
        },
        {
          "output_type": "display_data",
          "data": {
            "text/plain": [
              "<IPython.core.display.Markdown object>"
            ],
            "text/markdown": "| Distance (m) | Obstructed Height (m) | Visible part (%) |\n| ----- | ----- | ----- |\n|**272000**|**4972.73**|**0.0**|\n|146196|1436.0|0.0|\n|131576|1163.12|19.0|\n|116957|918.99|36.0|\n|102337|703.58|51.0|\n|87717|516.91|64.0|\n|73098|358.96|75.0|\n|58478|229.73|84.0|\n|43859|129.22|91.0|\n|29239|57.43|96.0|\n|14620|14.36|99.0|\n|0|0.0|100.0|\n"
          },
          "metadata": {}
        },
        {
          "output_type": "display_data",
          "data": {
            "text/plain": [
              "<IPython.core.display.Markdown object>"
            ],
            "text/markdown": "### CALCULATING for OBSERVER HEIGHT = 1000 meters"
          },
          "metadata": {}
        },
        {
          "output_type": "display_data",
          "data": {
            "text/plain": [
              "<IPython.core.display.Markdown object>"
            ],
            "text/markdown": "|Refraction|Line of Sight (meters)|\n|-----|-----|\n|No|248164|\n|Yes|268198|\n"
          },
          "metadata": {}
        },
        {
          "output_type": "display_data",
          "data": {
            "text/plain": [
              "<IPython.core.display.Markdown object>"
            ],
            "text/markdown": "Obscured heights (with refraction)"
          },
          "metadata": {}
        },
        {
          "output_type": "display_data",
          "data": {
            "text/plain": [
              "<IPython.core.display.Markdown object>"
            ],
            "text/markdown": "| Distance (m) | Obstructed Height (m) | Visible part (%) |\n| ----- | ----- | ----- |\n|**272000**|**1511.67**|**0.0**|\n|268198|1436.0|0.0|\n|253578|1163.12|19.0|\n|238959|918.99|36.0|\n|224339|703.58|51.0|\n|209720|516.91|64.0|\n|195100|358.96|75.0|\n|180481|229.73|84.0|\n|165861|129.22|91.0|\n|151241|57.43|96.0|\n|136622|14.36|99.0|\n|122002 and closer|0.0|100.0|\n"
          },
          "metadata": {}
        },
        {
          "output_type": "display_data",
          "data": {
            "text/plain": [
              "<IPython.core.display.Markdown object>"
            ],
            "text/markdown": "### CALCULATING for OBSERVER HEIGHT = 1813 meters"
          },
          "metadata": {}
        },
        {
          "output_type": "display_data",
          "data": {
            "text/plain": [
              "<IPython.core.display.Markdown object>"
            ],
            "text/markdown": "|Refraction|Line of Sight (meters)|\n|-----|-----|\n|No|287269|\n|Yes|310462|\n"
          },
          "metadata": {}
        },
        {
          "output_type": "display_data",
          "data": {
            "text/plain": [
              "<IPython.core.display.Markdown object>"
            ],
            "text/markdown": "Obscured heights (with refraction)"
          },
          "metadata": {}
        },
        {
          "output_type": "display_data",
          "data": {
            "text/plain": [
              "<IPython.core.display.Markdown object>"
            ],
            "text/markdown": "| Distance (m) | Obstructed Height (m) | Visible part (%) |\n| ----- | ----- | ----- |\n|310462|1436.0|0.0|\n|295842|1163.12|19.0|\n|281222|918.99|36.0|\n|**272000**|**779.76**|**45.7**|\n|266603|703.58|51.0|\n|251983|516.91|64.0|\n|237364|358.96|75.0|\n|222744|229.73|84.0|\n|208125|129.22|91.0|\n|193505|57.43|96.0|\n|178885|14.36|99.0|\n|164266 and closer|0.0|100.0|\n"
          },
          "metadata": {}
        }
      ],
      "source": [
        "from math import sqrt, pi, atan2, cos\n",
        "from IPython.display import Markdown, display\n",
        "\n",
        "# @markdown ### Enter parameters:\n",
        "TARGET_HEIGHT = 1436 # @param {\"type\":\"integer\"}\n",
        "TARGET_DISTANCE = 272000 # @param {\"type\":\"integer\"}\n",
        "OBSERVER_HEIGHT_1 = 1000 # @param {\"type\":\"integer\"}\n",
        "OBSERVER_HEIGHT_2 = 1813 # @param {\"type\":\"integer\"}\n",
        "PRESSURE = 101 # @param {\"type\":\"integer\"}\n",
        "TEMPERATURE = 20 # @param {\"type\":\"integer\"}\n",
        "TEMP_GRADIENT = -0.01 # @param {\"type\":\"number\"}\n",
        "\n",
        "EARTH_CIRCUMFERENCE_EQUATORIAL = 40075.017\n",
        "EARTH_CIRCUMFERENCE_MERIDIONAL = 40007.86\n",
        "EARTH_CIRCUMFERENCE = (EARTH_CIRCUMFERENCE_EQUATORIAL + EARTH_CIRCUMFERENCE_MERIDIONAL) / 2\n",
        "EARTH_RADIUS = EARTH_CIRCUMFERENCE / (2 * pi)\n",
        "\n",
        "R = EARTH_RADIUS*1000\n",
        "\n",
        "def visibility_limit (RR : float, h1 : float, h2 : float,\\\n",
        "                      get_obscurations : bool = False,\n",
        "                      target_distance = None)\\\n",
        "    -> tuple [float, float, list[tuple[float,float]]]:\n",
        "  ''' Geometry for line-of-sight '''\n",
        "  x1a = sqrt (((RR + h1)**2) - RR**2)\n",
        "  x1r = atan2 (x1a, RR)\n",
        "  x1 = x1r * RR\n",
        "  x2a = sqrt (((RR + h2)**2) - RR**2)\n",
        "  x2r = atan2 (x2a, RR)\n",
        "  x2 = x2r * RR\n",
        "\n",
        "  obscurations = list()\n",
        "  output_target_done = False\n",
        "\n",
        "  # Do split and get obscured height\n",
        "  if get_obscurations:\n",
        "    for i in range (10 + 1):\n",
        "      s = x1r * ((10 - i) / 10)\n",
        "      ho = RR / cos (s) - RR\n",
        "      dist = x2 + s*RR\n",
        "      if dist < target_distance and not output_target_done:\n",
        "        dist2 = target_distance - x2\n",
        "        angle = dist2 / RR\n",
        "        hoPrim = RR / cos (angle) - RR\n",
        "        obscurations.append ((target_distance, hoPrim, True))\n",
        "        output_target_done = True\n",
        "      obscurations.append ((dist, ho, False))\n",
        "    # obscurations.append ()\n",
        "\n",
        "  return x1, x2, obscurations\n",
        "\n",
        "def reportObsc (obsc : list[tuple[float,float, bool]]) :\n",
        "  display (Markdown (\"Obscured heights (with refraction)\"))\n",
        "  tableString = \"| Distance (m) | Obstructed Height (m) | Visible part (%) |\\n\"\n",
        "  tableString += \"| ----- | ----- | ----- |\\n\"\n",
        "\n",
        "  for e in obsc:\n",
        "    distance = e[0]\n",
        "    distanceString = str(round(distance))\n",
        "    obscHeight = e[1]\n",
        "    obscTarget = e[2]\n",
        "\n",
        "    if obscHeight == 0 and distance > 0:\n",
        "      distanceString = distanceString + \" and closer\"\n",
        "    fattyMarker = \"\"\n",
        "    if obscTarget:\n",
        "      fattyMarker = \"**\"\n",
        "    percent = 100 - (obscHeight / TARGET_HEIGHT) * 100\n",
        "    if percent < 0:\n",
        "      percent = 0.0\n",
        "    elif percent > 100:\n",
        "      percent = 100.0\n",
        "    tableString += \"|\" + fattyMarker + distanceString + fattyMarker +\\\n",
        "                   \"|\" + fattyMarker + str(round(obscHeight,2)) + fattyMarker + \\\n",
        "                   \"|\" + fattyMarker + str(round(percent,2)) + fattyMarker + \"|\\n\"\n",
        "  display (Markdown(tableString))\n",
        "\n",
        "DT_DH = TEMP_GRADIENT # Temperature shift with increasing elevation\n",
        "K_FACTOR = 503*(PRESSURE*10)*(1/((TEMPERATURE+273)**2))*(0.0343 + DT_DH)\n",
        "Ra = R / (1 - K_FACTOR) # This is the radius adjusted for refraction\n",
        "# See https://en.wikipedia.org/wiki/Atmospheric_refraction#cite_note-Hirt2010-28\n",
        "\n",
        "h1 = TARGET_HEIGHT # Height of target\n",
        "\n",
        "display (Markdown (\"# Results\"))\n",
        "display (Markdown (\"HEIGHT of TARGET = \" + str(h1) + \" meters\"))\n",
        "\n",
        "for h2 in [0, OBSERVER_HEIGHT_1, OBSERVER_HEIGHT_2]: # Try some different observer elevations\n",
        "\n",
        "  display (Markdown (\"### CALCULATING for OBSERVER HEIGHT = \" + str(h2) + \" meters\"))\n",
        "\n",
        "  ## No refraction\n",
        "\n",
        "  x1, x2, obsc = visibility_limit (R, h1, h2)\n",
        "  distance = x1 + x2\n",
        "  lightHouseTable = \"|Refraction|Line of Sight (meters)|\\n\"\n",
        "  lightHouseTable += \"|-----|-----|\\n\"\n",
        "  lightHouseTable += \"|No|\" + str(round(distance))+ \"|\\n\"\n",
        "\n",
        "  # For zero elevation (observer at sea level) we can double-check with the parabola approximation\n",
        "  # NOTE: The parabola approximation is useless if observer is above sea level!\n",
        "  if h2 == 0:\n",
        "    outputStr = \"*Checking the 8 inches per miles squared approximation*<br/>\"\n",
        "    MILES_PER_KM = 0.621371\n",
        "    miles = (distance/1000) * MILES_PER_KM\n",
        "    inches = 8 * (miles**2)\n",
        "    INCHES_PER_METER = 39.3701\n",
        "    meters_from_inches = inches / INCHES_PER_METER\n",
        "    outputStr += \"*Parabola approximation of lighthouse height = \" + str(round(meters_from_inches,5)) + \" meters*<br/>\"\n",
        "    outputStr += \"*.. which is \" + \\\n",
        "                 str(abs(round(((meters_from_inches - h1) / h1),6)*100)) + \\\n",
        "                 \" % off the real value*\"\n",
        "    display (Markdown (outputStr))\n",
        "\n",
        "  ## Now adjust for refraction\n",
        "\n",
        "  x1,x2,obsc = visibility_limit (Ra, h1, h2, get_obscurations=True, target_distance=TARGET_DISTANCE)\n",
        "  distance = x1 + x2\n",
        "\n",
        "  lightHouseTable += \"|Yes|\" + str(round(distance))+ \"|\\n\"\n",
        "  display (Markdown(lightHouseTable))\n",
        "  if obsc is not None:\n",
        "    reportObsc (obsc)"
      ]
    },
    {
      "cell_type": "code",
      "source": [],
      "metadata": {
        "id": "n_iZDiNKfxTp"
      },
      "execution_count": null,
      "outputs": []
    }
  ],
  "metadata": {
    "colab": {
      "provenance": [],
      "include_colab_link": true
    },
    "kernelspec": {
      "display_name": "base",
      "language": "python",
      "name": "python3"
    },
    "language_info": {
      "codemirror_mode": {
        "name": "ipython",
        "version": 3
      },
      "file_extension": ".py",
      "mimetype": "text/x-python",
      "name": "python",
      "nbconvert_exporter": "python",
      "pygments_lexer": "ipython3",
      "version": "3.11.9"
    }
  },
  "nbformat": 4,
  "nbformat_minor": 0
}